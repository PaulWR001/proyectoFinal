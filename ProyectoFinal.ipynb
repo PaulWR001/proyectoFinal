{
  "cells": [
    {
      "cell_type": "markdown",
      "metadata": {
        "id": "view-in-github",
        "colab_type": "text"
      },
      "source": [
        "<a href=\"https://colab.research.google.com/github/PaulWR001/proyectoFinal/blob/main/ProyectoFinal.ipynb\" target=\"_parent\"><img src=\"https://colab.research.google.com/assets/colab-badge.svg\" alt=\"Open In Colab\"/></a>"
      ]
    },
    {
      "cell_type": "markdown",
      "metadata": {
        "id": "s9NVdWOWhkt4"
      },
      "source": [
        "# PARTE 1"
      ]
    },
    {
      "cell_type": "markdown",
      "metadata": {
        "id": "gTKG18NDh4ZD"
      },
      "source": [
        "## Funciones en Python"
      ]
    },
    {
      "cell_type": "code",
      "execution_count": null,
      "metadata": {
        "colab": {
          "base_uri": "https://localhost:8080/"
        },
        "id": "EpUfUjA_Iw40",
        "outputId": "5f4586f2-e46e-466d-cda8-a6881f3825ec"
      },
      "outputs": [
        {
          "name": "stdout",
          "output_type": "stream",
          "text": [
            "Enter a number: 4\n",
            "24\n"
          ]
        }
      ],
      "source": [
        "def factorial(n):  # factorial\n",
        "    if n == 0:\n",
        "        return 1\n",
        "    else:\n",
        "        return n * factorial(n-1);\n",
        "n = input(\"Enter a number: \");\n",
        "n = int(n)\n",
        "k = factorial(n)\n",
        "print(k)"
      ]
    },
    {
      "cell_type": "markdown",
      "metadata": {
        "id": "xeTU5YTQiW7u"
      },
      "source": [
        "## Cadenas en Python"
      ]
    },
    {
      "cell_type": "code",
      "execution_count": null,
      "metadata": {
        "colab": {
          "base_uri": "https://localhost:8080/"
        },
        "id": "o3zv8GqHIwkO",
        "outputId": "95e01c7c-73df-4f53-8b4f-23e251937c13"
      },
      "outputs": [
        {
          "name": "stdout",
          "output_type": "stream",
          "text": [
            "!odnum ,aloH\n"
          ]
        }
      ],
      "source": [
        "def invertir_cadena(cadena):\n",
        "    cadena_invertida = \"\" #inicializamos la cadena vacía\n",
        "    for caracter in cadena:\n",
        "        cadena_invertida = caracter + cadena_invertida\n",
        "    return cadena_invertida\n",
        "\n",
        "# Ejemplo de uso\n",
        "cadena_original = \"Hola, mundo!\"\n",
        "cadena_invertida = invertir_cadena(cadena_original)\n",
        "print(cadena_invertida)"
      ]
    },
    {
      "cell_type": "markdown",
      "metadata": {
        "id": "bqHuH96YifDd"
      },
      "source": [
        "## Diccionarios en Python"
      ]
    },
    {
      "cell_type": "code",
      "execution_count": null,
      "metadata": {
        "colab": {
          "base_uri": "https://localhost:8080/"
        },
        "id": "StyNMXHjWCD2",
        "outputId": "5f215553-1314-4a5c-cde1-cd359f0c84d1"
      },
      "outputs": [
        {
          "output_type": "stream",
          "name": "stdout",
          "text": [
            "Carmen añadido, número de teléfono: 941742631.\n",
            "Theodoro añadido, número de teléfono: 946233559.\n",
            "Theodoro: 946233559\n",
            "Agenda telefónica:\n",
            "Carmen: 941742631\n",
            "Theodoro: 946233559\n",
            "Teléfono de Carmen eliminado\n",
            "No se encontró al contacto\n",
            "Agenda telefónica:\n",
            "Theodoro: 946233559\n"
          ]
        }
      ],
      "source": [
        "agendaTelefonica = {}\n",
        "\n",
        "def agregar(nombre, telefono):\n",
        "  agendaTelefonica[nombre] = telefono\n",
        "  print(f\"{nombre} añadido, número de teléfono: {telefono}.\")\n",
        "\n",
        "def eliminar(nombre):\n",
        "  if nombre in agendaTelefonica:\n",
        "    del agendaTelefonica[nombre]\n",
        "    print(f\"Teléfono de {nombre} eliminado\")\n",
        "  else:\n",
        "    print(f\"No se encontró al contacto\")\n",
        "\n",
        "def buscar(nombre):\n",
        "  if nombre in agendaTelefonica:\n",
        "    print(f\"{nombre}: {agendaTelefonica[nombre]}\")\n",
        "  else:\n",
        "    print(f\"No se encontró al contacto\")\n",
        "\n",
        "def mostrar():\n",
        "  print(f\"Agenda telefónica:\")\n",
        "  for nombre,telefono in agendaTelefonica.items():\n",
        "    print(f\"{nombre}: {telefono}\")\n",
        "\n",
        "agregar(\"Carmen\",941742631)\n",
        "agregar(\"Theodoro\",946233559)\n",
        "buscar(\"Theodoro\")\n",
        "mostrar()\n",
        "eliminar(\"Carmen\")\n",
        "buscar(\"Carmen\")\n",
        "mostrar()"
      ]
    },
    {
      "cell_type": "markdown",
      "metadata": {
        "id": "f_74BjJxi4hz"
      },
      "source": [
        "## Archivos en Python"
      ]
    },
    {
      "cell_type": "code",
      "execution_count": null,
      "metadata": {
        "id": "NCyTHQmwjAWS"
      },
      "outputs": [],
      "source": [
        "with open('ejemplo.txt', 'w') as archivo:\n",
        "    archivo.write('Este es el grupo\\n')\n",
        "    archivo.write('para la práctica 5 de\\n')\n",
        "    archivo.write('Fundamentos de Programación')"
      ]
    },
    {
      "cell_type": "markdown",
      "metadata": {
        "id": "WzLwGO2rjCsW"
      },
      "source": [
        "## Clases en Python"
      ]
    },
    {
      "cell_type": "code",
      "execution_count": null,
      "metadata": {
        "id": "X_zoFu-yjKPA",
        "colab": {
          "base_uri": "https://localhost:8080/"
        },
        "outputId": "939927da-1b92-4cda-c488-c5aab0ad6b70"
      },
      "outputs": [
        {
          "output_type": "stream",
          "name": "stdout",
          "text": [
            "Nombre: Arom - Edad: 18\n",
            "Nombre: Paul - Edad: 20\n",
            "Nombre: Andrea - Edad: 20\n"
          ]
        }
      ],
      "source": [
        "class Persona:\n",
        "  def __init__(self,nombre,edad):\n",
        "    self.nombre = nombre\n",
        "    self.edad = edad\n",
        "\n",
        "  def mostrar(self):\n",
        "    print(f\"Nombre: {self.nombre} - Edad: {self.edad}\")\n",
        "\n",
        "persona1 = Persona(\"Arom\", 18)\n",
        "persona2 = Persona(\"Paul\",20)\n",
        "persona3 = Persona(\"Andrea\",20)\n",
        "\n",
        "persona1.mostrar()\n",
        "persona2.mostrar()\n",
        "persona3.mostrar()"
      ]
    },
    {
      "cell_type": "markdown",
      "metadata": {
        "id": "dqgquWR9htae"
      },
      "source": [
        "# PARTE 2\n"
      ]
    },
    {
      "cell_type": "code",
      "execution_count": null,
      "metadata": {
        "colab": {
          "base_uri": "https://localhost:8080/"
        },
        "collapsed": true,
        "id": "Hb47IhfghxeM",
        "outputId": "e2d21723-cb84-4036-8833-7a310dcaf0d6"
      },
      "outputs": [
        {
          "name": "stdout",
          "output_type": "stream",
          "text": [
            "Adivine un número entre 1 y 100\n",
            "Ingrese el número: 50\n",
            "El número es menor \n",
            "Ingrese el número: 25\n",
            "El número es mayor \n",
            "Ingrese el número: 38\n",
            "El número es menor \n",
            "Ingrese el número: 32\n"
          ]
        }
      ],
      "source": [
        "import random\n",
        "\n",
        "number = random.randint(1, 100)\n",
        "num_guesses = 0\n",
        "\n",
        "print(\"Adivine un número entre 1 y 100\")\n",
        "\n",
        "while True:\n",
        "  try:\n",
        "    guess = int(input(\"Ingrese el número: \"))\n",
        "    num_guesses += 1\n",
        "    if guess < number:\n",
        "      print(\"El número es mayor \")\n",
        "    elif guess > number:\n",
        "      print(\"El número es menor \")\n",
        "    else:\n",
        "      print(f\"Felicidades, adivinaste el número {number} en {num_guesses} intentos.\")\n",
        "      break\n",
        "  except ValueError:\n",
        "    print(\"Entrada inválida, ingrese un número\")"
      ]
    },
    {
      "cell_type": "markdown",
      "metadata": {
        "id": "Qb3Ib0aQhyvz"
      },
      "source": [
        "# PARTE 3"
      ]
    },
    {
      "cell_type": "code",
      "source": [
        "import pandas as pd\n",
        "import matplotlib.pyplot as plt\n",
        "import numpy as np\n",
        "\n",
        "df = pd.read_csv('sample_data/mtcars.csv')\n",
        "print(df.head())\n",
        "\n",
        "columna1 = 'hp'\n",
        "media_hp = np.mean(df[columna1])\n",
        "desviacion_hp = np.std(df[columna1])\n",
        "print(f\"La media de {columna1} es {media_hp}\")\n",
        "print(f\"La desviación estándar de {columna1} es {desviacion_hp}\")\n",
        "\n",
        "columna2 = 'cyl'\n",
        "media_cyl = np.mean(df[columna2])\n",
        "desviacion_cyl = np.std(df[columna2])\n",
        "print(f\"La media de {columna2} es {media_cyl}\")\n",
        "print(f\"La desviación estándar de {columna2} es {desviacion_cyl}\")\n",
        "\n",
        "plt.scatter(df[columna2], df[columna1],s=8, color='blue')\n",
        "plt.title(f'Gráfico de dispersión de {columna2} por {columna1}')\n",
        "plt.xlabel(columna2)\n",
        "plt.ylabel(columna1)\n",
        "plt.tight_layout()\n",
        "plt.show()\n"
      ],
      "metadata": {
        "id": "Uwptkp-cgDu-",
        "colab": {
          "base_uri": "https://localhost:8080/",
          "height": 782
        },
        "outputId": "bb6916d0-cb2f-4914-a951-67196a43830c"
      },
      "execution_count": null,
      "outputs": [
        {
          "output_type": "stream",
          "name": "stdout",
          "text": [
            "               model   mpg  cyl   disp   hp  drat     wt   qsec  vs  am  gear  \\\n",
            "0          Mazda RX4  21.0    6  160.0  110  3.90  2.620  16.46   0   1     4   \n",
            "1      Mazda RX4 Wag  21.0    6  160.0  110  3.90  2.875  17.02   0   1     4   \n",
            "2         Datsun 710  22.8    4  108.0   93  3.85  2.320  18.61   1   1     4   \n",
            "3     Hornet 4 Drive  21.4    6  258.0  110  3.08  3.215  19.44   1   0     3   \n",
            "4  Hornet Sportabout  18.7    8  360.0  175  3.15  3.440  17.02   0   0     3   \n",
            "\n",
            "   carb  \n",
            "0     4  \n",
            "1     4  \n",
            "2     1  \n",
            "3     1  \n",
            "4     2  \n",
            "La media de hp es 146.6875\n",
            "La desviación estándar de hp es 67.48307079371833\n",
            "La media de cyl es 6.1875\n",
            "La desviación estándar de cyl es 1.757795138803154\n"
          ]
        },
        {
          "output_type": "display_data",
          "data": {
            "text/plain": [
              "<Figure size 640x480 with 1 Axes>"
            ],
            "image/png": "[encoded data removed]"
          },
          "metadata": {}
        }
      ]
    }
  ],
  "metadata": {
    "colab": {
      "provenance": [],
      "include_colab_link": true
    },
    "kernelspec": {
      "display_name": "Python 3",
      "name": "python3"
    },
    "language_info": {
      "name": "python"
    }
  },
  "nbformat": 4,
  "nbformat_minor": 0
}